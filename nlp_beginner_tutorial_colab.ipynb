{
  "metadata": {
    "kernelspec": {
      "display_name": "Python 3",
      "name": "python3"
    },
    "language_info": {
      "name": "python",
      "version": "3.10.10",
      "mimetype": "text/x-python",
      "codemirror_mode": {
        "name": "ipython",
        "version": 3
      },
      "pygments_lexer": "ipython3",
      "nbconvert_exporter": "python",
      "file_extension": ".py"
    },
    "colab": {
      "provenance": [],
      "gpuType": "A100",
      "include_colab_link": true
    },
    "accelerator": "GPU"
  },
  "nbformat_minor": 0,
  "nbformat": 4,
  "cells": [
    {
      "cell_type": "markdown",
      "metadata": {
        "id": "view-in-github",
        "colab_type": "text"
      },
      "source": [
        "<a href=\"https://colab.research.google.com/github/FlorianShepherd/ml/blob/main/nlp_beginner_tutorial_colab.ipynb\" target=\"_parent\"><img src=\"https://colab.research.google.com/assets/colab-badge.svg\" alt=\"Open In Colab\"/></a>"
      ]
    },
    {
      "cell_type": "code",
      "source": [
        "import pandas as pd\n",
        "import numpy as np"
      ],
      "metadata": {
        "_uuid": "8f2839f25d086af736a60e9eeb907d3b93b6e0e5",
        "_cell_guid": "b1076dfc-b9ad-4769-8c92-a6c4dae69d19",
        "execution": {
          "iopub.status.busy": "2023-07-09T18:09:50.370088Z",
          "iopub.execute_input": "2023-07-09T18:09:50.370795Z",
          "iopub.status.idle": "2023-07-09T18:09:50.375369Z",
          "shell.execute_reply.started": "2023-07-09T18:09:50.370759Z",
          "shell.execute_reply": "2023-07-09T18:09:50.374404Z"
        },
        "trusted": true,
        "id": "lpWjnLdVDvyZ"
      },
      "execution_count": 1,
      "outputs": []
    },
    {
      "cell_type": "code",
      "source": [
        "from google.colab import files\n",
        "files.upload()\n"
      ],
      "metadata": {
        "colab": {
          "base_uri": "https://localhost:8080/",
          "height": 38
        },
        "id": "EzYqzVM0ElKe",
        "outputId": "ae5ca16b-8014-45c0-874b-65ba79264fc8"
      },
      "execution_count": null,
      "outputs": [
        {
          "output_type": "display_data",
          "data": {
            "text/plain": [
              "<IPython.core.display.HTML object>"
            ],
            "text/html": [
              "\n",
              "     <input type=\"file\" id=\"files-76685ae3-bee9-4461-a001-f068bc838cce\" name=\"files[]\" multiple disabled\n",
              "        style=\"border:none\" />\n",
              "     <output id=\"result-76685ae3-bee9-4461-a001-f068bc838cce\">\n",
              "      Upload widget is only available when the cell has been executed in the\n",
              "      current browser session. Please rerun this cell to enable.\n",
              "      </output>\n",
              "      <script>// Copyright 2017 Google LLC\n",
              "//\n",
              "// Licensed under the Apache License, Version 2.0 (the \"License\");\n",
              "// you may not use this file except in compliance with the License.\n",
              "// You may obtain a copy of the License at\n",
              "//\n",
              "//      http://www.apache.org/licenses/LICENSE-2.0\n",
              "//\n",
              "// Unless required by applicable law or agreed to in writing, software\n",
              "// distributed under the License is distributed on an \"AS IS\" BASIS,\n",
              "// WITHOUT WARRANTIES OR CONDITIONS OF ANY KIND, either express or implied.\n",
              "// See the License for the specific language governing permissions and\n",
              "// limitations under the License.\n",
              "\n",
              "/**\n",
              " * @fileoverview Helpers for google.colab Python module.\n",
              " */\n",
              "(function(scope) {\n",
              "function span(text, styleAttributes = {}) {\n",
              "  const element = document.createElement('span');\n",
              "  element.textContent = text;\n",
              "  for (const key of Object.keys(styleAttributes)) {\n",
              "    element.style[key] = styleAttributes[key];\n",
              "  }\n",
              "  return element;\n",
              "}\n",
              "\n",
              "// Max number of bytes which will be uploaded at a time.\n",
              "const MAX_PAYLOAD_SIZE = 100 * 1024;\n",
              "\n",
              "function _uploadFiles(inputId, outputId) {\n",
              "  const steps = uploadFilesStep(inputId, outputId);\n",
              "  const outputElement = document.getElementById(outputId);\n",
              "  // Cache steps on the outputElement to make it available for the next call\n",
              "  // to uploadFilesContinue from Python.\n",
              "  outputElement.steps = steps;\n",
              "\n",
              "  return _uploadFilesContinue(outputId);\n",
              "}\n",
              "\n",
              "// This is roughly an async generator (not supported in the browser yet),\n",
              "// where there are multiple asynchronous steps and the Python side is going\n",
              "// to poll for completion of each step.\n",
              "// This uses a Promise to block the python side on completion of each step,\n",
              "// then passes the result of the previous step as the input to the next step.\n",
              "function _uploadFilesContinue(outputId) {\n",
              "  const outputElement = document.getElementById(outputId);\n",
              "  const steps = outputElement.steps;\n",
              "\n",
              "  const next = steps.next(outputElement.lastPromiseValue);\n",
              "  return Promise.resolve(next.value.promise).then((value) => {\n",
              "    // Cache the last promise value to make it available to the next\n",
              "    // step of the generator.\n",
              "    outputElement.lastPromiseValue = value;\n",
              "    return next.value.response;\n",
              "  });\n",
              "}\n",
              "\n",
              "/**\n",
              " * Generator function which is called between each async step of the upload\n",
              " * process.\n",
              " * @param {string} inputId Element ID of the input file picker element.\n",
              " * @param {string} outputId Element ID of the output display.\n",
              " * @return {!Iterable<!Object>} Iterable of next steps.\n",
              " */\n",
              "function* uploadFilesStep(inputId, outputId) {\n",
              "  const inputElement = document.getElementById(inputId);\n",
              "  inputElement.disabled = false;\n",
              "\n",
              "  const outputElement = document.getElementById(outputId);\n",
              "  outputElement.innerHTML = '';\n",
              "\n",
              "  const pickedPromise = new Promise((resolve) => {\n",
              "    inputElement.addEventListener('change', (e) => {\n",
              "      resolve(e.target.files);\n",
              "    });\n",
              "  });\n",
              "\n",
              "  const cancel = document.createElement('button');\n",
              "  inputElement.parentElement.appendChild(cancel);\n",
              "  cancel.textContent = 'Cancel upload';\n",
              "  const cancelPromise = new Promise((resolve) => {\n",
              "    cancel.onclick = () => {\n",
              "      resolve(null);\n",
              "    };\n",
              "  });\n",
              "\n",
              "  // Wait for the user to pick the files.\n",
              "  const files = yield {\n",
              "    promise: Promise.race([pickedPromise, cancelPromise]),\n",
              "    response: {\n",
              "      action: 'starting',\n",
              "    }\n",
              "  };\n",
              "\n",
              "  cancel.remove();\n",
              "\n",
              "  // Disable the input element since further picks are not allowed.\n",
              "  inputElement.disabled = true;\n",
              "\n",
              "  if (!files) {\n",
              "    return {\n",
              "      response: {\n",
              "        action: 'complete',\n",
              "      }\n",
              "    };\n",
              "  }\n",
              "\n",
              "  for (const file of files) {\n",
              "    const li = document.createElement('li');\n",
              "    li.append(span(file.name, {fontWeight: 'bold'}));\n",
              "    li.append(span(\n",
              "        `(${file.type || 'n/a'}) - ${file.size} bytes, ` +\n",
              "        `last modified: ${\n",
              "            file.lastModifiedDate ? file.lastModifiedDate.toLocaleDateString() :\n",
              "                                    'n/a'} - `));\n",
              "    const percent = span('0% done');\n",
              "    li.appendChild(percent);\n",
              "\n",
              "    outputElement.appendChild(li);\n",
              "\n",
              "    const fileDataPromise = new Promise((resolve) => {\n",
              "      const reader = new FileReader();\n",
              "      reader.onload = (e) => {\n",
              "        resolve(e.target.result);\n",
              "      };\n",
              "      reader.readAsArrayBuffer(file);\n",
              "    });\n",
              "    // Wait for the data to be ready.\n",
              "    let fileData = yield {\n",
              "      promise: fileDataPromise,\n",
              "      response: {\n",
              "        action: 'continue',\n",
              "      }\n",
              "    };\n",
              "\n",
              "    // Use a chunked sending to avoid message size limits. See b/62115660.\n",
              "    let position = 0;\n",
              "    do {\n",
              "      const length = Math.min(fileData.byteLength - position, MAX_PAYLOAD_SIZE);\n",
              "      const chunk = new Uint8Array(fileData, position, length);\n",
              "      position += length;\n",
              "\n",
              "      const base64 = btoa(String.fromCharCode.apply(null, chunk));\n",
              "      yield {\n",
              "        response: {\n",
              "          action: 'append',\n",
              "          file: file.name,\n",
              "          data: base64,\n",
              "        },\n",
              "      };\n",
              "\n",
              "      let percentDone = fileData.byteLength === 0 ?\n",
              "          100 :\n",
              "          Math.round((position / fileData.byteLength) * 100);\n",
              "      percent.textContent = `${percentDone}% done`;\n",
              "\n",
              "    } while (position < fileData.byteLength);\n",
              "  }\n",
              "\n",
              "  // All done.\n",
              "  yield {\n",
              "    response: {\n",
              "      action: 'complete',\n",
              "    }\n",
              "  };\n",
              "}\n",
              "\n",
              "scope.google = scope.google || {};\n",
              "scope.google.colab = scope.google.colab || {};\n",
              "scope.google.colab._files = {\n",
              "  _uploadFiles,\n",
              "  _uploadFilesContinue,\n",
              "};\n",
              "})(self);\n",
              "</script> "
            ]
          },
          "metadata": {}
        }
      ]
    },
    {
      "cell_type": "markdown",
      "source": [],
      "metadata": {
        "id": "GhV4-R2HDvyc"
      }
    },
    {
      "cell_type": "code",
      "source": [
        "!rm -r ~/.kaggle\n",
        "!mkdir ~/.kaggle\n",
        "!mv ./kaggle.json ~/.kaggle/\n",
        "!chmod 600 ~/.kaggle/kaggle.json\n"
      ],
      "metadata": {
        "id": "AeM5Mv9-F7dx"
      },
      "execution_count": null,
      "outputs": []
    },
    {
      "cell_type": "code",
      "source": [
        "!kaggle competitions download -c nlp-getting-started"
      ],
      "metadata": {
        "id": "RvkMozLyF_qs"
      },
      "execution_count": null,
      "outputs": []
    },
    {
      "cell_type": "code",
      "source": [
        "!mkdir Dataset\n",
        "!cp /content/nlp-getting-started.zip /content/Dataset/nlp-getting-started.zip\n",
        "!unzip -q /content/Dataset/nlp-getting-started.zip -d /content/Dataset\n",
        "!rm /content/Dataset/nlp-getting-started.zip\n"
      ],
      "metadata": {
        "id": "pB-XyD1lGIpY"
      },
      "execution_count": null,
      "outputs": []
    },
    {
      "cell_type": "code",
      "source": [
        "! pip install --upgrade pip\n",
        "! pip install --no-cache-dir transformers\n",
        "! pip install sentencepiece\n",
        "! pip install accelerate\n",
        "! pip install datasets"
      ],
      "metadata": {
        "execution": {
          "iopub.status.busy": "2023-07-09T18:05:46.737929Z",
          "iopub.execute_input": "2023-07-09T18:05:46.738731Z",
          "iopub.status.idle": "2023-07-09T18:06:57.836713Z",
          "shell.execute_reply.started": "2023-07-09T18:05:46.738697Z",
          "shell.execute_reply": "2023-07-09T18:06:57.835530Z"
        },
        "trusted": true,
        "id": "aWaqFar3Dvyd"
      },
      "execution_count": null,
      "outputs": []
    },
    {
      "cell_type": "code",
      "source": [
        "train_df = pd.read_csv(\"/content/Dataset/train.csv\")\n",
        "test_df = pd.read_csv(\"/content/Dataset/test.csv\")"
      ],
      "metadata": {
        "execution": {
          "iopub.status.busy": "2023-07-09T18:08:08.013238Z",
          "iopub.execute_input": "2023-07-09T18:08:08.013592Z",
          "iopub.status.idle": "2023-07-09T18:08:08.060037Z",
          "shell.execute_reply.started": "2023-07-09T18:08:08.013564Z",
          "shell.execute_reply": "2023-07-09T18:08:08.059136Z"
        },
        "trusted": true,
        "id": "G4KOwIu-Dvye"
      },
      "execution_count": null,
      "outputs": []
    },
    {
      "cell_type": "code",
      "source": [
        "train_df[\"target\"] = train_df[\"target\"].astype(float)\n",
        "\n",
        "mode = train_df.mode().iloc[0]\n",
        "train_df.fillna(mode, inplace=True)\n",
        "train_df.isna().sum()"
      ],
      "metadata": {
        "execution": {
          "iopub.status.busy": "2023-07-09T18:08:19.145513Z",
          "iopub.execute_input": "2023-07-09T18:08:19.145876Z",
          "iopub.status.idle": "2023-07-09T18:08:19.182462Z",
          "shell.execute_reply.started": "2023-07-09T18:08:19.145846Z",
          "shell.execute_reply": "2023-07-09T18:08:19.181634Z"
        },
        "trusted": true,
        "id": "y5LsO-sTDvyf"
      },
      "execution_count": null,
      "outputs": []
    },
    {
      "cell_type": "code",
      "source": [
        "train_df.iloc[3]"
      ],
      "metadata": {
        "execution": {
          "iopub.status.busy": "2023-07-09T18:08:22.975030Z",
          "iopub.execute_input": "2023-07-09T18:08:22.975514Z",
          "iopub.status.idle": "2023-07-09T18:08:22.984142Z",
          "shell.execute_reply.started": "2023-07-09T18:08:22.975475Z",
          "shell.execute_reply": "2023-07-09T18:08:22.983017Z"
        },
        "trusted": true,
        "id": "RIN1v1WyDvyg"
      },
      "execution_count": null,
      "outputs": []
    },
    {
      "cell_type": "code",
      "source": [
        "train_df[\"input\"] = \"TEXT1: \" + train_df[\"keyword\"] + \"; TEXT2: \" + train_df[\"location\"] + \"; TEXT3: \" + train_df[\"text\"]\n",
        "# train_df[\"input\"] = \"TEXT2: \" + train_df[\"location\"] + \"; TEXT3: \" + train_df[\"text\"]"
      ],
      "metadata": {
        "execution": {
          "iopub.status.busy": "2023-07-09T18:08:23.265698Z",
          "iopub.execute_input": "2023-07-09T18:08:23.266059Z",
          "iopub.status.idle": "2023-07-09T18:08:23.281818Z",
          "shell.execute_reply.started": "2023-07-09T18:08:23.266029Z",
          "shell.execute_reply": "2023-07-09T18:08:23.281008Z"
        },
        "trusted": true,
        "id": "Sngg4b6CDvyg"
      },
      "execution_count": null,
      "outputs": []
    },
    {
      "cell_type": "code",
      "source": [
        "train_df[\"text\"]"
      ],
      "metadata": {
        "execution": {
          "iopub.status.busy": "2023-07-09T18:08:23.418980Z",
          "iopub.execute_input": "2023-07-09T18:08:23.419463Z",
          "iopub.status.idle": "2023-07-09T18:08:23.429745Z",
          "shell.execute_reply.started": "2023-07-09T18:08:23.419423Z",
          "shell.execute_reply": "2023-07-09T18:08:23.428230Z"
        },
        "trusted": true,
        "id": "Qhq051DsDvyg"
      },
      "execution_count": null,
      "outputs": []
    },
    {
      "cell_type": "code",
      "source": [
        "from transformers import AutoModelForSequenceClassification,AutoTokenizer\n",
        "model_nm = 'microsoft/deberta-v3-small'\n",
        "#model_nm = 'microsoft/DeBERTa-v3-base'\n",
        "tokz = AutoTokenizer.from_pretrained(model_nm, use_fast=False)"
      ],
      "metadata": {
        "execution": {
          "iopub.status.busy": "2023-07-09T19:08:35.098441Z",
          "iopub.execute_input": "2023-07-09T19:08:35.098848Z",
          "iopub.status.idle": "2023-07-09T19:08:36.354864Z",
          "shell.execute_reply.started": "2023-07-09T19:08:35.098816Z",
          "shell.execute_reply": "2023-07-09T19:08:36.353783Z"
        },
        "trusted": true,
        "id": "BDBVEF78Dvyi"
      },
      "execution_count": null,
      "outputs": []
    },
    {
      "cell_type": "code",
      "source": [
        "tokz.tokenize(train_df.iloc[0][\"input\"])"
      ],
      "metadata": {
        "execution": {
          "iopub.status.busy": "2023-07-09T18:58:21.222548Z",
          "iopub.execute_input": "2023-07-09T18:58:21.223168Z",
          "iopub.status.idle": "2023-07-09T18:58:21.232752Z",
          "shell.execute_reply.started": "2023-07-09T18:58:21.223132Z",
          "shell.execute_reply": "2023-07-09T18:58:21.231616Z"
        },
        "trusted": true,
        "id": "oNpOIM-IDvyj"
      },
      "execution_count": null,
      "outputs": []
    },
    {
      "cell_type": "code",
      "source": [
        "def tok_func(x): return tokz(x[\"input\"])"
      ],
      "metadata": {
        "execution": {
          "iopub.status.busy": "2023-07-09T18:58:21.234536Z",
          "iopub.execute_input": "2023-07-09T18:58:21.235334Z",
          "iopub.status.idle": "2023-07-09T18:58:21.242123Z",
          "shell.execute_reply.started": "2023-07-09T18:58:21.235299Z",
          "shell.execute_reply": "2023-07-09T18:58:21.240994Z"
        },
        "trusted": true,
        "id": "Fvt6Rty5Dvyj"
      },
      "execution_count": null,
      "outputs": []
    },
    {
      "cell_type": "code",
      "source": [
        "from datasets import Dataset,DatasetDict\n",
        "\n",
        "ds = Dataset.from_pandas(train_df)"
      ],
      "metadata": {
        "execution": {
          "iopub.status.busy": "2023-07-09T18:58:21.245548Z",
          "iopub.execute_input": "2023-07-09T18:58:21.246327Z",
          "iopub.status.idle": "2023-07-09T18:58:21.260540Z",
          "shell.execute_reply.started": "2023-07-09T18:58:21.246145Z",
          "shell.execute_reply": "2023-07-09T18:58:21.259906Z"
        },
        "trusted": true,
        "id": "ymoHswK8Dvyl"
      },
      "execution_count": null,
      "outputs": []
    },
    {
      "cell_type": "code",
      "source": [
        "ds"
      ],
      "metadata": {
        "execution": {
          "iopub.status.busy": "2023-07-09T18:58:21.261881Z",
          "iopub.execute_input": "2023-07-09T18:58:21.262546Z",
          "iopub.status.idle": "2023-07-09T18:58:21.268520Z",
          "shell.execute_reply.started": "2023-07-09T18:58:21.262514Z",
          "shell.execute_reply": "2023-07-09T18:58:21.267603Z"
        },
        "trusted": true,
        "id": "noWuI8CmDvym"
      },
      "execution_count": null,
      "outputs": []
    },
    {
      "cell_type": "code",
      "source": [
        "tok_ds = ds.map(tok_func, batched=True)"
      ],
      "metadata": {
        "execution": {
          "iopub.status.busy": "2023-07-09T18:58:21.270162Z",
          "iopub.execute_input": "2023-07-09T18:58:21.270475Z",
          "iopub.status.idle": "2023-07-09T18:58:22.367333Z",
          "shell.execute_reply.started": "2023-07-09T18:58:21.270452Z",
          "shell.execute_reply": "2023-07-09T18:58:22.366245Z"
        },
        "trusted": true,
        "id": "aR8N-qmQDvym"
      },
      "execution_count": null,
      "outputs": []
    },
    {
      "cell_type": "code",
      "source": [
        "tok_ds"
      ],
      "metadata": {
        "execution": {
          "iopub.status.busy": "2023-07-09T18:58:22.369116Z",
          "iopub.execute_input": "2023-07-09T18:58:22.369500Z",
          "iopub.status.idle": "2023-07-09T18:58:22.376565Z",
          "shell.execute_reply.started": "2023-07-09T18:58:22.369466Z",
          "shell.execute_reply": "2023-07-09T18:58:22.375585Z"
        },
        "trusted": true,
        "id": "-dItWd73Dvyn"
      },
      "execution_count": null,
      "outputs": []
    },
    {
      "cell_type": "code",
      "source": [
        "row = tok_ds[0]\n",
        "row['input'], row['input_ids']"
      ],
      "metadata": {
        "execution": {
          "iopub.status.busy": "2023-07-09T18:58:22.378194Z",
          "iopub.execute_input": "2023-07-09T18:58:22.378826Z",
          "iopub.status.idle": "2023-07-09T18:58:22.389275Z",
          "shell.execute_reply.started": "2023-07-09T18:58:22.378793Z",
          "shell.execute_reply": "2023-07-09T18:58:22.388234Z"
        },
        "trusted": true,
        "id": "U3oBKxuhDvyn"
      },
      "execution_count": null,
      "outputs": []
    },
    {
      "cell_type": "code",
      "source": [
        "tok_ds = tok_ds.rename_columns({'target':'labels'})"
      ],
      "metadata": {
        "execution": {
          "iopub.status.busy": "2023-07-09T18:58:22.390668Z",
          "iopub.execute_input": "2023-07-09T18:58:22.391419Z",
          "iopub.status.idle": "2023-07-09T18:58:22.399048Z",
          "shell.execute_reply.started": "2023-07-09T18:58:22.391388Z",
          "shell.execute_reply": "2023-07-09T18:58:22.398119Z"
        },
        "trusted": true,
        "id": "uCRoaRinDvyo"
      },
      "execution_count": null,
      "outputs": []
    },
    {
      "cell_type": "code",
      "source": [
        "dds = tok_ds.train_test_split(0.25, seed=1337)"
      ],
      "metadata": {
        "execution": {
          "iopub.status.busy": "2023-07-09T18:58:22.403116Z",
          "iopub.execute_input": "2023-07-09T18:58:22.403626Z",
          "iopub.status.idle": "2023-07-09T18:58:22.416280Z",
          "shell.execute_reply.started": "2023-07-09T18:58:22.403595Z",
          "shell.execute_reply": "2023-07-09T18:58:22.415693Z"
        },
        "trusted": true,
        "id": "mHmKgF7nDvyo"
      },
      "execution_count": null,
      "outputs": []
    },
    {
      "cell_type": "code",
      "source": [
        "mode = test_df.mode().iloc[0]\n",
        "test_df.fillna(mode, inplace=True)\n",
        "test_df.isna().sum()\n",
        "\n",
        "test_df[\"input\"] = \"TEXT1: \" + test_df[\"keyword\"] + \"; TEXT2: \" + test_df[\"location\"] + \"; TEXT3: \" + test_df[\"text\"]\n",
        "# test_df[\"input\"] = \"TEXT2: \" + test_df[\"location\"] + \"; TEXT3: \" + test_df[\"text\"]\n",
        "\n",
        "\n",
        "eval_ds = Dataset.from_pandas(test_df).map(tok_func, batched=True)"
      ],
      "metadata": {
        "execution": {
          "iopub.status.busy": "2023-07-09T18:58:22.417444Z",
          "iopub.execute_input": "2023-07-09T18:58:22.417994Z",
          "iopub.status.idle": "2023-07-09T18:58:22.934114Z",
          "shell.execute_reply.started": "2023-07-09T18:58:22.417963Z",
          "shell.execute_reply": "2023-07-09T18:58:22.933235Z"
        },
        "trusted": true,
        "id": "rkj_8-1qDvyo"
      },
      "execution_count": null,
      "outputs": []
    },
    {
      "cell_type": "code",
      "source": [
        "eval_ds"
      ],
      "metadata": {
        "execution": {
          "iopub.status.busy": "2023-07-09T18:58:22.935608Z",
          "iopub.execute_input": "2023-07-09T18:58:22.936049Z",
          "iopub.status.idle": "2023-07-09T18:58:22.946085Z",
          "shell.execute_reply.started": "2023-07-09T18:58:22.936015Z",
          "shell.execute_reply": "2023-07-09T18:58:22.945078Z"
        },
        "trusted": true,
        "id": "mpXA82CGDvyp"
      },
      "execution_count": null,
      "outputs": []
    },
    {
      "cell_type": "code",
      "source": [
        "def mse(x,y): return np.mean((x-y)**2)\n",
        "def mse_d(eval_pred): return {'mse': mse(*eval_pred)}\n",
        "\n",
        "def acc(x,y): return np.mean(1.0-np.abs(np.round(x)-np.round(y)))\n",
        "def acc_d(eval_pred): return {'acc': acc(*eval_pred)}\n",
        "\n",
        "acc(0, 1)"
      ],
      "metadata": {
        "execution": {
          "iopub.status.busy": "2023-07-09T18:58:22.947639Z",
          "iopub.execute_input": "2023-07-09T18:58:22.947932Z",
          "iopub.status.idle": "2023-07-09T18:58:22.954315Z",
          "shell.execute_reply.started": "2023-07-09T18:58:22.947909Z",
          "shell.execute_reply": "2023-07-09T18:58:22.953221Z"
        },
        "trusted": true,
        "id": "oZEt-PQxDvyp"
      },
      "execution_count": null,
      "outputs": []
    },
    {
      "cell_type": "code",
      "source": [],
      "metadata": {
        "trusted": true,
        "id": "xHJu6IcqDvyp"
      },
      "execution_count": null,
      "outputs": []
    },
    {
      "cell_type": "code",
      "source": [
        "from transformers import TrainingArguments,Trainer\n"
      ],
      "metadata": {
        "execution": {
          "iopub.status.busy": "2023-07-09T18:58:22.955991Z",
          "iopub.execute_input": "2023-07-09T18:58:22.957005Z",
          "iopub.status.idle": "2023-07-09T18:58:22.961839Z",
          "shell.execute_reply.started": "2023-07-09T18:58:22.956980Z",
          "shell.execute_reply": "2023-07-09T18:58:22.960840Z"
        },
        "trusted": true,
        "id": "ZmM_3KhNDvyq"
      },
      "execution_count": null,
      "outputs": []
    },
    {
      "cell_type": "code",
      "source": [
        "bs = 128\n",
        "epochs = 5\n",
        "lr = 8e-5\n",
        "args = TrainingArguments('outputs', learning_rate=lr, warmup_ratio=0.1, lr_scheduler_type='cosine', fp16=True,\n",
        "    evaluation_strategy=\"epoch\", per_device_train_batch_size=bs, per_device_eval_batch_size=bs*2,\n",
        "    num_train_epochs=epochs, weight_decay=0.01, report_to='none')\n",
        "model = AutoModelForSequenceClassification.from_pretrained(model_nm, num_labels=1)\n",
        "trainer = Trainer(model, args, train_dataset=dds['train'], eval_dataset=dds['test'],\n",
        "                  tokenizer=tokz, compute_metrics=acc_d)"
      ],
      "metadata": {
        "execution": {
          "iopub.status.busy": "2023-07-09T18:58:22.963968Z",
          "iopub.execute_input": "2023-07-09T18:58:22.964860Z",
          "iopub.status.idle": "2023-07-09T18:59:03.048579Z",
          "shell.execute_reply.started": "2023-07-09T18:58:22.964828Z",
          "shell.execute_reply": "2023-07-09T18:59:03.047620Z"
        },
        "trusted": true,
        "id": "SgfyM8bADvyq"
      },
      "execution_count": null,
      "outputs": []
    },
    {
      "cell_type": "code",
      "source": [
        "trainer.train();"
      ],
      "metadata": {
        "execution": {
          "iopub.status.busy": "2023-07-09T18:59:03.050117Z",
          "iopub.execute_input": "2023-07-09T18:59:03.050506Z",
          "iopub.status.idle": "2023-07-09T18:59:06.740264Z",
          "shell.execute_reply.started": "2023-07-09T18:59:03.050473Z",
          "shell.execute_reply": "2023-07-09T18:59:06.736135Z"
        },
        "trusted": true,
        "id": "XJr-k8hiDvyq"
      },
      "execution_count": null,
      "outputs": []
    },
    {
      "cell_type": "code",
      "source": [
        "preds = trainer.predict(eval_ds).predictions.astype(float)\n",
        "preds[preds>=0.5] = 1.\n",
        "preds[preds<0.5] = 0."
      ],
      "metadata": {
        "execution": {
          "iopub.status.busy": "2023-07-09T18:59:06.743213Z",
          "iopub.status.idle": "2023-07-09T18:59:06.745632Z",
          "shell.execute_reply.started": "2023-07-09T18:59:06.745379Z",
          "shell.execute_reply": "2023-07-09T18:59:06.745403Z"
        },
        "trusted": true,
        "id": "vLtfoVpBDvyr"
      },
      "execution_count": null,
      "outputs": []
    },
    {
      "cell_type": "code",
      "source": [
        "import datasets\n",
        "\n",
        "submission = datasets.Dataset.from_dict({\n",
        "    'id': eval_ds['id'],\n",
        "    'target': preds.astype(int).T[0].tolist()\n",
        "})\n",
        "\n",
        "submission.to_csv('submission.csv', index=False)\n"
      ],
      "metadata": {
        "execution": {
          "iopub.status.busy": "2023-07-09T18:59:06.749406Z",
          "iopub.status.idle": "2023-07-09T18:59:06.751669Z",
          "shell.execute_reply.started": "2023-07-09T18:59:06.751423Z",
          "shell.execute_reply": "2023-07-09T18:59:06.751446Z"
        },
        "trusted": true,
        "id": "pV55OcKGDvys"
      },
      "execution_count": null,
      "outputs": []
    },
    {
      "cell_type": "code",
      "source": [
        "preds.astype(int).T[0].tolist()[:10]"
      ],
      "metadata": {
        "execution": {
          "iopub.status.busy": "2023-07-09T18:59:06.753013Z",
          "iopub.status.idle": "2023-07-09T18:59:06.755512Z",
          "shell.execute_reply.started": "2023-07-09T18:59:06.755273Z",
          "shell.execute_reply": "2023-07-09T18:59:06.755295Z"
        },
        "trusted": true,
        "id": "wZjKUXzYDvys"
      },
      "execution_count": null,
      "outputs": []
    },
    {
      "cell_type": "code",
      "source": [
        "dds[\"test\"][\"labels\"][:10]"
      ],
      "metadata": {
        "execution": {
          "iopub.status.busy": "2023-07-09T18:59:06.756835Z",
          "iopub.status.idle": "2023-07-09T18:59:06.757572Z",
          "shell.execute_reply.started": "2023-07-09T18:59:06.757337Z",
          "shell.execute_reply": "2023-07-09T18:59:06.757358Z"
        },
        "trusted": true,
        "id": "-JhINH5JDvys"
      },
      "execution_count": null,
      "outputs": []
    },
    {
      "cell_type": "code",
      "source": [
        "preds = trainer.predict(dds[\"test\"]).predictions.astype(float)\n",
        "preds[preds>=0.5] = 1.\n",
        "preds[preds<0.5] = 0.\n",
        "preds[10:20]"
      ],
      "metadata": {
        "execution": {
          "iopub.status.busy": "2023-07-09T18:59:06.761105Z",
          "iopub.status.idle": "2023-07-09T18:59:06.761854Z",
          "shell.execute_reply.started": "2023-07-09T18:59:06.761606Z",
          "shell.execute_reply": "2023-07-09T18:59:06.761636Z"
        },
        "trusted": true,
        "id": "ndBerlpdDvys"
      },
      "execution_count": null,
      "outputs": []
    },
    {
      "cell_type": "code",
      "source": [],
      "metadata": {
        "id": "smRTEdBJDvyx"
      },
      "execution_count": null,
      "outputs": []
    }
  ]
}